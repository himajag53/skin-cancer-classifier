{
 "cells": [
  {
   "cell_type": "code",
   "execution_count": 1,
   "id": "103a9184",
   "metadata": {},
   "outputs": [],
   "source": [
    "import matplotlib.pyplot as plt\n",
    "import numpy as np\n",
    "import pandas as pd\n",
    "\n",
    "import torch\n",
    "import torch.nn as nn\n",
    "import torchvision.models as models\n",
    "from torchvision import datasets, transforms\n",
    "from torch.utils.data import DataLoader, random_split"
   ]
  },
  {
   "cell_type": "markdown",
   "id": "e5ff8ff8",
   "metadata": {},
   "source": [
    "### Dataset Loading and Labeling"
   ]
  },
  {
   "cell_type": "code",
   "execution_count": 2,
   "id": "18228170",
   "metadata": {},
   "outputs": [],
   "source": [
    "TRAIN_PATH = 'images/train'\n",
    "TEST_PATH = 'images/test'"
   ]
  },
  {
   "cell_type": "code",
   "execution_count": 3,
   "id": "076f5fba",
   "metadata": {},
   "outputs": [],
   "source": [
    "data_transforms = {\n",
    "    'train': transforms.Compose([\n",
    "        transforms.Resize((224, 224)),          # specify images to 224x224\n",
    "        transforms.RandomHorizontalFlip(),      # randomly flip images horizontally\n",
    "        transforms.RandomRotation(10),          # randomly rotate images by up to 10 degrees\n",
    "        transforms.ToTensor(),                  # convert to PyTorch tensors\n",
    "        transforms.Normalize([0.485, 0.456, 0.406], [0.229, 0.224, 0.225])  # normalize with mean and std values\n",
    "    ]),\n",
    "    'test': transforms.Compose([\n",
    "        transforms.Resize((224, 224)),          # specify images to 224x224\n",
    "        transforms.ToTensor(),                  # convert to PyTorch tensors\n",
    "        transforms.Normalize([0.485, 0.456, 0.406], [0.229, 0.224, 0.225])  # normalize with mean and std values\n",
    "    ])\n",
    "}"
   ]
  },
  {
   "cell_type": "code",
   "execution_count": 4,
   "id": "76a2ca95",
   "metadata": {},
   "outputs": [],
   "source": [
    "train_dataset = datasets.ImageFolder(\n",
    "    root=TRAIN_PATH,\n",
    "    transform=data_transforms['train'])\n",
    "\n",
    "test_dataset = datasets.ImageFolder(\n",
    "    root=TEST_PATH,\n",
    "    transform=data_transforms['test'])"
   ]
  },
  {
   "cell_type": "code",
   "execution_count": 5,
   "id": "fced6dfa",
   "metadata": {},
   "outputs": [],
   "source": [
    "train_size = int(0.8 * len(train_dataset))\n",
    "val_size = len(train_dataset) - train_size\n",
    "\n",
    "train_dataset, val_dataset = random_split(train_dataset, [train_size, val_size])"
   ]
  },
  {
   "cell_type": "code",
   "execution_count": 6,
   "id": "ca584d5c",
   "metadata": {},
   "outputs": [],
   "source": [
    "train_loader = DataLoader(\n",
    "    train_dataset, \n",
    "    batch_size=32, \n",
    "    shuffle=True)\n",
    "\n",
    "val_loader = DataLoader(\n",
    "    val_dataset, \n",
    "    batch_size=32, \n",
    "    shuffle=False)\n",
    "\n",
    "test_loader = DataLoader(\n",
    "    test_dataset, \n",
    "    batch_size=32, \n",
    "    shuffle=False)"
   ]
  },
  {
   "cell_type": "code",
   "execution_count": 7,
   "id": "670f0d3b",
   "metadata": {},
   "outputs": [
    {
     "name": "stdout",
     "output_type": "stream",
     "text": [
      "Class Indices: {'Benign': 0, 'Malignant': 1}\n",
      "Number of Training Samples: 9503\n",
      "Number of Validation Samples: 2376\n",
      "Number of Test Samples: 2000\n"
     ]
    }
   ],
   "source": [
    "# class verification\n",
    "print(\"Class Indices:\", train_dataset.dataset.class_to_idx)\n",
    "print(\"Number of Training Samples:\", len(train_dataset))\n",
    "print(\"Number of Validation Samples:\", len(val_dataset))\n",
    "print(\"Number of Test Samples:\", len(test_dataset))"
   ]
  }
 ],
 "metadata": {
  "kernelspec": {
   "display_name": "Python 3 (ipykernel)",
   "language": "python",
   "name": "python3"
  },
  "language_info": {
   "codemirror_mode": {
    "name": "ipython",
    "version": 3
   },
   "file_extension": ".py",
   "mimetype": "text/x-python",
   "name": "python",
   "nbconvert_exporter": "python",
   "pygments_lexer": "ipython3",
   "version": "3.9.16"
  }
 },
 "nbformat": 4,
 "nbformat_minor": 5
}
